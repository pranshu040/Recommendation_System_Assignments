{
  "cells": [
    {
      "cell_type": "code",
      "execution_count": null,
      "metadata": {
        "id": "YIeXWEsNQM3D"
      },
      "outputs": [],
      "source": [
        "import pandas as pd\n",
        "import numpy as np\n",
        "import scipy.stats\n",
        "# Visualization\n",
        "import seaborn as sns\n",
        "# Similarity\n",
        "from sklearn.metrics.pairwise import cosine_similarity\n",
        "import matplotlib.pyplot as plt\n",
        "from sklearn.neighbors import NearestNeighbors\n",
        "from scipy.sparse import csr_matrix"
      ]
    },
    {
      "cell_type": "code",
      "execution_count": null,
      "metadata": {
        "colab": {
          "base_uri": "https://localhost:8080/"
        },
        "id": "cFHtw-ATQQVL",
        "outputId": "e548f3e3-f571-495c-855d-9646d7bc0ece"
      },
      "outputs": [
        {
          "output_type": "stream",
          "name": "stdout",
          "text": [
            "Drive already mounted at /content/drive; to attempt to forcibly remount, call drive.mount(\"/content/drive\", force_remount=True).\n"
          ]
        }
      ],
      "source": [
        "from google.colab import drive\n",
        "drive.mount('/content/drive')"
      ]
    },
    {
      "cell_type": "code",
      "execution_count": null,
      "metadata": {
        "id": "SUOMdMokQS1d",
        "colab": {
          "base_uri": "https://localhost:8080/",
          "height": 206
        },
        "outputId": "c0c5ef00-bc8d-42db-d993-b2c4aa8b6376"
      },
      "outputs": [
        {
          "output_type": "execute_result",
          "data": {
            "text/plain": [
              "   user_id  recipe_id        date  rating      u       i\n",
              "0     2046       4684  2000-02-25     5.0  22095   44367\n",
              "1     2046        517  2000-02-25     5.0  22095   87844\n",
              "2     1773       7435  2000-03-13     5.0  24732  138181\n",
              "3     1773        278  2000-03-13     4.0  24732   93054\n",
              "4     2046       3431  2000-04-07     5.0  22095  101723"
            ],
            "text/html": [
              "\n",
              "  <div id=\"df-8e07a856-c78f-463f-a550-02846de2ea87\">\n",
              "    <div class=\"colab-df-container\">\n",
              "      <div>\n",
              "<style scoped>\n",
              "    .dataframe tbody tr th:only-of-type {\n",
              "        vertical-align: middle;\n",
              "    }\n",
              "\n",
              "    .dataframe tbody tr th {\n",
              "        vertical-align: top;\n",
              "    }\n",
              "\n",
              "    .dataframe thead th {\n",
              "        text-align: right;\n",
              "    }\n",
              "</style>\n",
              "<table border=\"1\" class=\"dataframe\">\n",
              "  <thead>\n",
              "    <tr style=\"text-align: right;\">\n",
              "      <th></th>\n",
              "      <th>user_id</th>\n",
              "      <th>recipe_id</th>\n",
              "      <th>date</th>\n",
              "      <th>rating</th>\n",
              "      <th>u</th>\n",
              "      <th>i</th>\n",
              "    </tr>\n",
              "  </thead>\n",
              "  <tbody>\n",
              "    <tr>\n",
              "      <th>0</th>\n",
              "      <td>2046</td>\n",
              "      <td>4684</td>\n",
              "      <td>2000-02-25</td>\n",
              "      <td>5.0</td>\n",
              "      <td>22095</td>\n",
              "      <td>44367</td>\n",
              "    </tr>\n",
              "    <tr>\n",
              "      <th>1</th>\n",
              "      <td>2046</td>\n",
              "      <td>517</td>\n",
              "      <td>2000-02-25</td>\n",
              "      <td>5.0</td>\n",
              "      <td>22095</td>\n",
              "      <td>87844</td>\n",
              "    </tr>\n",
              "    <tr>\n",
              "      <th>2</th>\n",
              "      <td>1773</td>\n",
              "      <td>7435</td>\n",
              "      <td>2000-03-13</td>\n",
              "      <td>5.0</td>\n",
              "      <td>24732</td>\n",
              "      <td>138181</td>\n",
              "    </tr>\n",
              "    <tr>\n",
              "      <th>3</th>\n",
              "      <td>1773</td>\n",
              "      <td>278</td>\n",
              "      <td>2000-03-13</td>\n",
              "      <td>4.0</td>\n",
              "      <td>24732</td>\n",
              "      <td>93054</td>\n",
              "    </tr>\n",
              "    <tr>\n",
              "      <th>4</th>\n",
              "      <td>2046</td>\n",
              "      <td>3431</td>\n",
              "      <td>2000-04-07</td>\n",
              "      <td>5.0</td>\n",
              "      <td>22095</td>\n",
              "      <td>101723</td>\n",
              "    </tr>\n",
              "  </tbody>\n",
              "</table>\n",
              "</div>\n",
              "      <button class=\"colab-df-convert\" onclick=\"convertToInteractive('df-8e07a856-c78f-463f-a550-02846de2ea87')\"\n",
              "              title=\"Convert this dataframe to an interactive table.\"\n",
              "              style=\"display:none;\">\n",
              "        \n",
              "  <svg xmlns=\"http://www.w3.org/2000/svg\" height=\"24px\"viewBox=\"0 0 24 24\"\n",
              "       width=\"24px\">\n",
              "    <path d=\"M0 0h24v24H0V0z\" fill=\"none\"/>\n",
              "    <path d=\"M18.56 5.44l.94 2.06.94-2.06 2.06-.94-2.06-.94-.94-2.06-.94 2.06-2.06.94zm-11 1L8.5 8.5l.94-2.06 2.06-.94-2.06-.94L8.5 2.5l-.94 2.06-2.06.94zm10 10l.94 2.06.94-2.06 2.06-.94-2.06-.94-.94-2.06-.94 2.06-2.06.94z\"/><path d=\"M17.41 7.96l-1.37-1.37c-.4-.4-.92-.59-1.43-.59-.52 0-1.04.2-1.43.59L10.3 9.45l-7.72 7.72c-.78.78-.78 2.05 0 2.83L4 21.41c.39.39.9.59 1.41.59.51 0 1.02-.2 1.41-.59l7.78-7.78 2.81-2.81c.8-.78.8-2.07 0-2.86zM5.41 20L4 18.59l7.72-7.72 1.47 1.35L5.41 20z\"/>\n",
              "  </svg>\n",
              "      </button>\n",
              "      \n",
              "  <style>\n",
              "    .colab-df-container {\n",
              "      display:flex;\n",
              "      flex-wrap:wrap;\n",
              "      gap: 12px;\n",
              "    }\n",
              "\n",
              "    .colab-df-convert {\n",
              "      background-color: #E8F0FE;\n",
              "      border: none;\n",
              "      border-radius: 50%;\n",
              "      cursor: pointer;\n",
              "      display: none;\n",
              "      fill: #1967D2;\n",
              "      height: 32px;\n",
              "      padding: 0 0 0 0;\n",
              "      width: 32px;\n",
              "    }\n",
              "\n",
              "    .colab-df-convert:hover {\n",
              "      background-color: #E2EBFA;\n",
              "      box-shadow: 0px 1px 2px rgba(60, 64, 67, 0.3), 0px 1px 3px 1px rgba(60, 64, 67, 0.15);\n",
              "      fill: #174EA6;\n",
              "    }\n",
              "\n",
              "    [theme=dark] .colab-df-convert {\n",
              "      background-color: #3B4455;\n",
              "      fill: #D2E3FC;\n",
              "    }\n",
              "\n",
              "    [theme=dark] .colab-df-convert:hover {\n",
              "      background-color: #434B5C;\n",
              "      box-shadow: 0px 1px 3px 1px rgba(0, 0, 0, 0.15);\n",
              "      filter: drop-shadow(0px 1px 2px rgba(0, 0, 0, 0.3));\n",
              "      fill: #FFFFFF;\n",
              "    }\n",
              "  </style>\n",
              "\n",
              "      <script>\n",
              "        const buttonEl =\n",
              "          document.querySelector('#df-8e07a856-c78f-463f-a550-02846de2ea87 button.colab-df-convert');\n",
              "        buttonEl.style.display =\n",
              "          google.colab.kernel.accessAllowed ? 'block' : 'none';\n",
              "\n",
              "        async function convertToInteractive(key) {\n",
              "          const element = document.querySelector('#df-8e07a856-c78f-463f-a550-02846de2ea87');\n",
              "          const dataTable =\n",
              "            await google.colab.kernel.invokeFunction('convertToInteractive',\n",
              "                                                     [key], {});\n",
              "          if (!dataTable) return;\n",
              "\n",
              "          const docLinkHtml = 'Like what you see? Visit the ' +\n",
              "            '<a target=\"_blank\" href=https://colab.research.google.com/notebooks/data_table.ipynb>data table notebook</a>'\n",
              "            + ' to learn more about interactive tables.';\n",
              "          element.innerHTML = '';\n",
              "          dataTable['output_type'] = 'display_data';\n",
              "          await google.colab.output.renderOutput(dataTable, element);\n",
              "          const docLink = document.createElement('div');\n",
              "          docLink.innerHTML = docLinkHtml;\n",
              "          element.appendChild(docLink);\n",
              "        }\n",
              "      </script>\n",
              "    </div>\n",
              "  </div>\n",
              "  "
            ]
          },
          "metadata": {},
          "execution_count": 154
        }
      ],
      "source": [
        "df_ratings=pd.read_csv('/content/drive/Shareddrives/rs assignment1/interactions_train.csv')\n",
        "# Take a look at the data\n",
        "\n",
        "df_ratings.head()"
      ]
    },
    {
      "cell_type": "code",
      "execution_count": null,
      "metadata": {
        "colab": {
          "base_uri": "https://localhost:8080/"
        },
        "id": "rFiCYdrmQVnO",
        "outputId": "1744d541-7940-4c01-ccbb-5cfbadc5c17c"
      },
      "outputs": [
        {
          "output_type": "stream",
          "name": "stdout",
          "text": [
            "<class 'pandas.core.frame.DataFrame'>\n",
            "RangeIndex: 698901 entries, 0 to 698900\n",
            "Data columns (total 6 columns):\n",
            " #   Column     Non-Null Count   Dtype  \n",
            "---  ------     --------------   -----  \n",
            " 0   user_id    698901 non-null  int64  \n",
            " 1   recipe_id  698901 non-null  int64  \n",
            " 2   date       698901 non-null  object \n",
            " 3   rating     698901 non-null  float64\n",
            " 4   u          698901 non-null  int64  \n",
            " 5   i          698901 non-null  int64  \n",
            "dtypes: float64(1), int64(4), object(1)\n",
            "memory usage: 32.0+ MB\n"
          ]
        }
      ],
      "source": [
        "df_ratings.info()"
      ]
    },
    {
      "cell_type": "code",
      "execution_count": null,
      "metadata": {
        "colab": {
          "base_uri": "https://localhost:8080/"
        },
        "id": "uzAw7junQX_H",
        "outputId": "24aa1c33-d1c2-4df3-d0c4-47753109979d"
      },
      "outputs": [
        {
          "output_type": "stream",
          "name": "stdout",
          "text": [
            "The ratings dataset has 25076 unique users\n",
            "The ratings dataset has 160901 unique recipes\n",
            "The ratings dataset has 6 unique ratings\n",
            "The unique ratings are [0.0, 1.0, 2.0, 3.0, 4.0, 5.0]\n"
          ]
        }
      ],
      "source": [
        "print('The ratings dataset has', df_ratings['user_id'].nunique(), 'unique users')\n",
        "# Number of recipes\n",
        "print('The ratings dataset has', df_ratings['recipe_id'].nunique(), 'unique recipes')\n",
        "# Number of ratings\n",
        "print('The ratings dataset has', df_ratings['rating'].nunique(), 'unique ratings')\n",
        "# List of unique ratings\n",
        "print('The unique ratings are', sorted(df_ratings['rating'].unique()))"
      ]
    },
    {
      "cell_type": "code",
      "execution_count": null,
      "metadata": {
        "id": "tXKFgifjQaLc"
      },
      "outputs": [],
      "source": [
        "# Read in data\n",
        "df_recipes = pd.read_csv('/content/drive/Shareddrives/rs assignment1/RAW_recipes.csv')\n",
        "# Take a look at the data\n",
        "df_recipes.rename(columns = {'id':'recipe_id'}, inplace = True)\n"
      ]
    },
    {
      "cell_type": "code",
      "source": [
        "new_df = df_ratings.merge(df_recipes,on = 'recipe_id')\n",
        "small_df = new_df.sample(frac = 0.02)"
      ],
      "metadata": {
        "id": "geiFQlGjPHJE"
      },
      "execution_count": null,
      "outputs": []
    },
    {
      "cell_type": "code",
      "source": [
        "ratings = small_df[['user_id','recipe_id','rating']]\n",
        "recipes = small_df[['recipe_id','name']]"
      ],
      "metadata": {
        "id": "7J7rn0edPZqe"
      },
      "execution_count": null,
      "outputs": []
    },
    {
      "cell_type": "code",
      "execution_count": null,
      "metadata": {
        "id": "-7sG7UYgQi0Q"
      },
      "outputs": [],
      "source": [
        "from sklearn.preprocessing import LabelEncoder\n",
        "def ids_encoder(ratings):\n",
        "    users = sorted(ratings['user_id'].unique())\n",
        "    items = sorted(ratings['recipe_id'].unique())\n",
        "    uencoder = LabelEncoder()\n",
        "    iencoder = LabelEncoder()\n",
        "    # fit users and items ids to the corresponding encoder\n",
        "    uencoder.fit(users)\n",
        "    iencoder.fit(items)\n",
        "    # encode userids and itemids\n",
        "    ratings.user_id = uencoder.transform(ratings.user_id.tolist())\n",
        "    ratings.recipe_id = iencoder.transform(ratings.recipe_id.tolist())\n",
        "\n",
        "    return ratings, uencoder, iencoder"
      ]
    },
    {
      "cell_type": "code",
      "execution_count": null,
      "metadata": {
        "colab": {
          "base_uri": "https://localhost:8080/"
        },
        "id": "BPPllf6QQjAw",
        "outputId": "249aef3d-68c7-4c05-aa08-f57bfa00e428"
      },
      "outputs": [
        {
          "output_type": "stream",
          "name": "stderr",
          "text": [
            "/usr/local/lib/python3.8/dist-packages/pandas/core/generic.py:5516: SettingWithCopyWarning: \n",
            "A value is trying to be set on a copy of a slice from a DataFrame.\n",
            "Try using .loc[row_indexer,col_indexer] = value instead\n",
            "\n",
            "See the caveats in the documentation: https://pandas.pydata.org/pandas-docs/stable/user_guide/indexing.html#returning-a-view-versus-a-copy\n",
            "  self[name] = value\n",
            "/usr/local/lib/python3.8/dist-packages/pandas/core/generic.py:5516: SettingWithCopyWarning: \n",
            "A value is trying to be set on a copy of a slice from a DataFrame.\n",
            "Try using .loc[row_indexer,col_indexer] = value instead\n",
            "\n",
            "See the caveats in the documentation: https://pandas.pydata.org/pandas-docs/stable/user_guide/indexing.html#returning-a-view-versus-a-copy\n",
            "  self[name] = value\n"
          ]
        },
        {
          "output_type": "execute_result",
          "data": {
            "text/plain": [
              "(13978, 3)"
            ]
          },
          "metadata": {},
          "execution_count": 161
        }
      ],
      "source": [
        "ratings, uencoder, iencoder = ids_encoder(ratings)\n",
        "ratings.head()\n",
        "ratings.shape"
      ]
    },
    {
      "cell_type": "code",
      "execution_count": null,
      "metadata": {
        "id": "ia_C54nXQqGo"
      },
      "outputs": [],
      "source": [
        "def normalize():\n",
        "    # compute mean rating for each user\n",
        "    mean = ratings.groupby(by='user_id', as_index=False)['rating'].mean()\n",
        "    norm_ratings = pd.merge(ratings, mean, suffixes=('','_mean'), on='user_id')\n",
        "\n",
        "    # normalize each rating by substracting the mean rating of the corresponding user\n",
        "    norm_ratings['norm_rating'] = norm_ratings['rating'] - norm_ratings['rating_mean']\n",
        "    return mean.to_numpy()[:, 1], norm_ratings"
      ]
    },
    {
      "cell_type": "code",
      "execution_count": null,
      "metadata": {
        "colab": {
          "base_uri": "https://localhost:8080/",
          "height": 206
        },
        "id": "DkOfh0FcQyVb",
        "outputId": "7e7ef58b-4ed2-4d74-bd56-1cbb4338696a"
      },
      "outputs": [
        {
          "output_type": "execute_result",
          "data": {
            "text/plain": [
              "   user_id  recipe_id  rating  rating_mean  norm_rating\n",
              "0     1871        533     5.0          5.0          0.0\n",
              "1     1871       7062     5.0          5.0          0.0\n",
              "2     2045       3083     5.0          5.0          0.0\n",
              "3     4095       6194     5.0          5.0          0.0\n",
              "4     1365       5371     5.0          5.0          0.0"
            ],
            "text/html": [
              "\n",
              "  <div id=\"df-35d11771-6191-48c1-babd-8770754def22\">\n",
              "    <div class=\"colab-df-container\">\n",
              "      <div>\n",
              "<style scoped>\n",
              "    .dataframe tbody tr th:only-of-type {\n",
              "        vertical-align: middle;\n",
              "    }\n",
              "\n",
              "    .dataframe tbody tr th {\n",
              "        vertical-align: top;\n",
              "    }\n",
              "\n",
              "    .dataframe thead th {\n",
              "        text-align: right;\n",
              "    }\n",
              "</style>\n",
              "<table border=\"1\" class=\"dataframe\">\n",
              "  <thead>\n",
              "    <tr style=\"text-align: right;\">\n",
              "      <th></th>\n",
              "      <th>user_id</th>\n",
              "      <th>recipe_id</th>\n",
              "      <th>rating</th>\n",
              "      <th>rating_mean</th>\n",
              "      <th>norm_rating</th>\n",
              "    </tr>\n",
              "  </thead>\n",
              "  <tbody>\n",
              "    <tr>\n",
              "      <th>0</th>\n",
              "      <td>1871</td>\n",
              "      <td>533</td>\n",
              "      <td>5.0</td>\n",
              "      <td>5.0</td>\n",
              "      <td>0.0</td>\n",
              "    </tr>\n",
              "    <tr>\n",
              "      <th>1</th>\n",
              "      <td>1871</td>\n",
              "      <td>7062</td>\n",
              "      <td>5.0</td>\n",
              "      <td>5.0</td>\n",
              "      <td>0.0</td>\n",
              "    </tr>\n",
              "    <tr>\n",
              "      <th>2</th>\n",
              "      <td>2045</td>\n",
              "      <td>3083</td>\n",
              "      <td>5.0</td>\n",
              "      <td>5.0</td>\n",
              "      <td>0.0</td>\n",
              "    </tr>\n",
              "    <tr>\n",
              "      <th>3</th>\n",
              "      <td>4095</td>\n",
              "      <td>6194</td>\n",
              "      <td>5.0</td>\n",
              "      <td>5.0</td>\n",
              "      <td>0.0</td>\n",
              "    </tr>\n",
              "    <tr>\n",
              "      <th>4</th>\n",
              "      <td>1365</td>\n",
              "      <td>5371</td>\n",
              "      <td>5.0</td>\n",
              "      <td>5.0</td>\n",
              "      <td>0.0</td>\n",
              "    </tr>\n",
              "  </tbody>\n",
              "</table>\n",
              "</div>\n",
              "      <button class=\"colab-df-convert\" onclick=\"convertToInteractive('df-35d11771-6191-48c1-babd-8770754def22')\"\n",
              "              title=\"Convert this dataframe to an interactive table.\"\n",
              "              style=\"display:none;\">\n",
              "        \n",
              "  <svg xmlns=\"http://www.w3.org/2000/svg\" height=\"24px\"viewBox=\"0 0 24 24\"\n",
              "       width=\"24px\">\n",
              "    <path d=\"M0 0h24v24H0V0z\" fill=\"none\"/>\n",
              "    <path d=\"M18.56 5.44l.94 2.06.94-2.06 2.06-.94-2.06-.94-.94-2.06-.94 2.06-2.06.94zm-11 1L8.5 8.5l.94-2.06 2.06-.94-2.06-.94L8.5 2.5l-.94 2.06-2.06.94zm10 10l.94 2.06.94-2.06 2.06-.94-2.06-.94-.94-2.06-.94 2.06-2.06.94z\"/><path d=\"M17.41 7.96l-1.37-1.37c-.4-.4-.92-.59-1.43-.59-.52 0-1.04.2-1.43.59L10.3 9.45l-7.72 7.72c-.78.78-.78 2.05 0 2.83L4 21.41c.39.39.9.59 1.41.59.51 0 1.02-.2 1.41-.59l7.78-7.78 2.81-2.81c.8-.78.8-2.07 0-2.86zM5.41 20L4 18.59l7.72-7.72 1.47 1.35L5.41 20z\"/>\n",
              "  </svg>\n",
              "      </button>\n",
              "      \n",
              "  <style>\n",
              "    .colab-df-container {\n",
              "      display:flex;\n",
              "      flex-wrap:wrap;\n",
              "      gap: 12px;\n",
              "    }\n",
              "\n",
              "    .colab-df-convert {\n",
              "      background-color: #E8F0FE;\n",
              "      border: none;\n",
              "      border-radius: 50%;\n",
              "      cursor: pointer;\n",
              "      display: none;\n",
              "      fill: #1967D2;\n",
              "      height: 32px;\n",
              "      padding: 0 0 0 0;\n",
              "      width: 32px;\n",
              "    }\n",
              "\n",
              "    .colab-df-convert:hover {\n",
              "      background-color: #E2EBFA;\n",
              "      box-shadow: 0px 1px 2px rgba(60, 64, 67, 0.3), 0px 1px 3px 1px rgba(60, 64, 67, 0.15);\n",
              "      fill: #174EA6;\n",
              "    }\n",
              "\n",
              "    [theme=dark] .colab-df-convert {\n",
              "      background-color: #3B4455;\n",
              "      fill: #D2E3FC;\n",
              "    }\n",
              "\n",
              "    [theme=dark] .colab-df-convert:hover {\n",
              "      background-color: #434B5C;\n",
              "      box-shadow: 0px 1px 3px 1px rgba(0, 0, 0, 0.15);\n",
              "      filter: drop-shadow(0px 1px 2px rgba(0, 0, 0, 0.3));\n",
              "      fill: #FFFFFF;\n",
              "    }\n",
              "  </style>\n",
              "\n",
              "      <script>\n",
              "        const buttonEl =\n",
              "          document.querySelector('#df-35d11771-6191-48c1-babd-8770754def22 button.colab-df-convert');\n",
              "        buttonEl.style.display =\n",
              "          google.colab.kernel.accessAllowed ? 'block' : 'none';\n",
              "\n",
              "        async function convertToInteractive(key) {\n",
              "          const element = document.querySelector('#df-35d11771-6191-48c1-babd-8770754def22');\n",
              "          const dataTable =\n",
              "            await google.colab.kernel.invokeFunction('convertToInteractive',\n",
              "                                                     [key], {});\n",
              "          if (!dataTable) return;\n",
              "\n",
              "          const docLinkHtml = 'Like what you see? Visit the ' +\n",
              "            '<a target=\"_blank\" href=https://colab.research.google.com/notebooks/data_table.ipynb>data table notebook</a>'\n",
              "            + ' to learn more about interactive tables.';\n",
              "          element.innerHTML = '';\n",
              "          dataTable['output_type'] = 'display_data';\n",
              "          await google.colab.output.renderOutput(dataTable, element);\n",
              "          const docLink = document.createElement('div');\n",
              "          docLink.innerHTML = docLinkHtml;\n",
              "          element.appendChild(docLink);\n",
              "        }\n",
              "      </script>\n",
              "    </div>\n",
              "  </div>\n",
              "  "
            ]
          },
          "metadata": {},
          "execution_count": 163
        }
      ],
      "source": [
        "mean, norm_ratings = normalize()\n",
        "np_ratings = norm_ratings.to_numpy()\n",
        "norm_ratings.head()"
      ]
    },
    {
      "cell_type": "code",
      "execution_count": null,
      "metadata": {
        "id": "rxkNjbu_Q2Xu"
      },
      "outputs": [],
      "source": [
        "def item_representation(ratings):\n",
        "    return csr_matrix(\n",
        "        pd.crosstab(ratings.recipe_id, ratings.user_id, ratings.norm_rating, aggfunc=sum).fillna(0).values\n",
        "    )"
      ]
    },
    {
      "cell_type": "code",
      "execution_count": null,
      "metadata": {
        "id": "Q2g6YzMyQ3MJ"
      },
      "outputs": [],
      "source": [
        "R = item_representation(norm_ratings)"
      ]
    },
    {
      "cell_type": "code",
      "execution_count": null,
      "metadata": {
        "id": "WMUmAhq6Q6Ix"
      },
      "outputs": [],
      "source": [
        "def create_model(rating_matrix, k=20, metric=\"cosine\"):\n",
        "    \"\"\"\n",
        "    :param R : numpy array of item representations\n",
        "    :param k : number of nearest neighbors to return\n",
        "    :return model : our knn model\n",
        "    \"\"\"\n",
        "    model = NearestNeighbors(metric=metric, n_neighbors=k+1, algorithm='brute')\n",
        "    model.fit(rating_matrix)\n",
        "    return model"
      ]
    },
    {
      "cell_type": "code",
      "execution_count": null,
      "metadata": {
        "id": "SO16n8hJQ6Lu"
      },
      "outputs": [],
      "source": [
        "def nearest_neighbors(rating_matrix, model):\n",
        "    \"\"\"\n",
        "    compute the top n similar items for each item.\n",
        "    :param rating_matrix : items representations\n",
        "    :param model : nearest neighbors model\n",
        "    :return similarities, neighbors\n",
        "    \"\"\"\n",
        "    similarities, neighbors = model.kneighbors(rating_matrix)\n",
        "    return similarities[:,1:], neighbors[:,1:]"
      ]
    },
    {
      "cell_type": "code",
      "execution_count": null,
      "metadata": {
        "id": "-d_UNgquQ6PM"
      },
      "outputs": [],
      "source": [
        "import sys\n",
        "def cosine(x, y):\n",
        "    return np.dot(x, y) / (np.linalg.norm(x) * np.linalg.norm(y))\n",
        "\n",
        "def adjusted_cosine(np_ratings, nb_items):\n",
        "    similarities = np.zeros(shape=(nb_items, nb_items))\n",
        "    similarities.fill(-1)\n",
        "    def _progress(count):\n",
        "        sys.stdout.write('\\rComputing similarities. Progress status : %.1f%%' % (float(count / nb_items)*100.0))\n",
        "        sys.stdout.flush()\n",
        "\n",
        "    items = sorted(ratings.recipe_id.unique())\n",
        "    for i in items[:-1]:\n",
        "        for j in items[i+1:]:\n",
        "            scores = np_ratings[(np_ratings[:, 1] == i) | (np_ratings[:, 1] == j), :]\n",
        "            vals, count = np.unique(scores[:,0], return_counts = True)\n",
        "            scores = scores[np.isin(scores[:,0], vals[count > 1]),:]\n",
        "\n",
        "            if scores.shape[0] > 2:\n",
        "                x = scores[scores[:, 1].astype('int') == i, 4]\n",
        "                y = scores[scores[:, 1].astype('int') == j, 4]\n",
        "                w = cosine(x, y)\n",
        "\n",
        "                similarities[i, j] = w\n",
        "                similarities[j, i] = w\n",
        "        _progress(i)\n",
        "    _progress(nb_items)\n",
        "    # get neighbors by their neighbors in decreasing order of similarities\n",
        "    neighbors = np.flip(np.argsort(similarities), axis=1)\n",
        "\n",
        "    # sort similarities in decreasing order\n",
        "    similarities = np.flip(np.sort(similarities), axis=1)\n",
        "\n",
        "    # save similarities to disk\n",
        "    #save_similarities(similarities, neighbors, dataset_name=dataset_name)\n",
        "\n",
        "    return similarities, neighbors"
      ]
    },
    {
      "cell_type": "code",
      "execution_count": null,
      "metadata": {
        "id": "TKr88_J6Q6Ue"
      },
      "outputs": [],
      "source": [
        "metric = 'cosine'\n",
        "\n",
        "if metric == 'adjusted_cosine':\n",
        "    nb_items = ratings.recipe_id.nunique()\n",
        "    similarities, neighbors = adjusted_cosine(np_ratings, nb_items=nb_items)\n",
        "else:\n",
        "    model = create_model(R, k=21, metric=metric)\n",
        "    similarities, neighbors = nearest_neighbors(R, model)"
      ]
    },
    {
      "cell_type": "code",
      "execution_count": null,
      "metadata": {
        "id": "zPXZRf9cRHlT",
        "colab": {
          "base_uri": "https://localhost:8080/"
        },
        "outputId": "76ed285c-d0c2-4814-daea-26159f830472"
      },
      "outputs": [
        {
          "output_type": "stream",
          "name": "stdout",
          "text": [
            "neighbors shape :  (11392, 21)\n",
            "similarities shape :  (11392, 21)\n"
          ]
        }
      ],
      "source": [
        "print('neighbors shape : ', neighbors.shape)\n",
        "print('similarities shape : ', similarities.shape)"
      ]
    },
    {
      "cell_type": "code",
      "execution_count": null,
      "metadata": {
        "id": "5XNVup3NRHou"
      },
      "outputs": [],
      "source": [
        "def candidate_items(userid):\n",
        "    \"\"\"\n",
        "    :param userid : user id for which we wish to find candidate items\n",
        "    :return : I_u, candidates\n",
        "    \"\"\"\n",
        "\n",
        "    # 1. Finding the set I_u of items already rated by user userid\n",
        "    I_u = np_ratings[np_ratings[:, 0] == userid]\n",
        "    I_u = I_u[:, 1].astype('int')\n",
        "\n",
        "    # 2. Taking the union of similar items for all items in I_u to form the set of candidate items\n",
        "    c = set()\n",
        "\n",
        "    for iid in I_u:\n",
        "        # add the neighbors of item iid in the set of candidate items\n",
        "        c.update(neighbors[iid])\n",
        "\n",
        "    c = list(c)\n",
        "    # 3. exclude from the set C all items in I_u.\n",
        "    candidates = np.setdiff1d(c, I_u, assume_unique=True)\n",
        "\n",
        "    return I_u, candidates"
      ]
    },
    {
      "cell_type": "code",
      "execution_count": null,
      "metadata": {
        "id": "aGw6dDM2RHv_",
        "colab": {
          "base_uri": "https://localhost:8080/"
        },
        "outputId": "db987c34-5c2e-4293-978c-4fefa0922f35"
      },
      "outputs": [
        {
          "output_type": "stream",
          "name": "stdout",
          "text": [
            "1871\n"
          ]
        }
      ],
      "source": [
        "test_user = ratings['user_id'].iloc[0]\n",
        "#test_user = uencoder.transform(ratings.user_id.tolist())[0]\n",
        "print(test_user)\n",
        "i_u, u_candidates = candidate_items(test_user)"
      ]
    },
    {
      "cell_type": "code",
      "execution_count": null,
      "metadata": {
        "id": "0QFS6vKKROdt",
        "colab": {
          "base_uri": "https://localhost:8080/"
        },
        "outputId": "8788c7b8-3d87-4479-e62e-d14af97a0415"
      },
      "outputs": [
        {
          "output_type": "stream",
          "name": "stdout",
          "text": [
            "number of items purchased by test user :  2\n",
            "number of candidate items for test user :  22\n"
          ]
        }
      ],
      "source": [
        "print('number of items purchased by test user : ',len(i_u))\n",
        "print('number of candidate items for test user : ',len(u_candidates))"
      ]
    },
    {
      "cell_type": "code",
      "execution_count": null,
      "metadata": {
        "id": "dRjiZX11ROi-"
      },
      "outputs": [],
      "source": [
        "def similarity_with_Iu(c, I_u):\n",
        "    \"\"\"\n",
        "    compute similarity between an item c and a set of items I_u. For each item i in I_u, get similarity between\n",
        "    i and c, if c exists in the set of items similar to itemid.\n",
        "    :param c : itemid of a candidate item\n",
        "    :param I_u : set of items already purchased by a given user\n",
        "    :return w : similarity between c and I_u\n",
        "    \"\"\"\n",
        "    w = 0\n",
        "    for iid in I_u :\n",
        "        # get similarity between itemid and c, if c is one of the k nearest neighbors of itemid\n",
        "        if c in neighbors[iid] :\n",
        "            w = w + similarities[iid, neighbors[iid] == c][0]\n",
        "    return w"
      ]
    },
    {
      "cell_type": "code",
      "execution_count": null,
      "metadata": {
        "id": "O0EZRWDWROl3"
      },
      "outputs": [],
      "source": [
        "def rank_candidates(candidates, I_u):\n",
        "    \"\"\"\n",
        "    rank candidate items according to their similarities with i_u\n",
        "    :param candidates : list of candidate items\n",
        "    :param I_u : list of items purchased by the user\n",
        "    :return ranked_candidates : dataframe of candidate items, ranked in descending order of similarities with I_u\n",
        "    \"\"\"\n",
        "\n",
        "    # list of candidate items mapped to their corresponding similarities to I_u\n",
        "    sims = [similarity_with_Iu(c, I_u) for c in candidates]\n",
        "    candidates = iencoder.inverse_transform(candidates)\n",
        "    mapping = list(zip(candidates, sims))\n",
        "\n",
        "    ranked_candidates = sorted(mapping, key=lambda couple:couple[1], reverse=True)\n",
        "    return ranked_candidates"
      ]
    },
    {
      "cell_type": "code",
      "execution_count": null,
      "metadata": {
        "id": "AWIBUKZlROo_"
      },
      "outputs": [],
      "source": [
        "def topn_recommendation(userid, N=30):\n",
        "    \"\"\"\n",
        "    Produce top-N recommendation for a given user\n",
        "    :param userid : user for which we produce top-N recommendation\n",
        "    :param n : length of the top-N recommendation list\n",
        "    :return topn\n",
        "    \"\"\"\n",
        "    # find candidate items\n",
        "    I_u, candidates = candidate_items(userid)\n",
        "\n",
        "    # rank candidate items according to their similarities with I_u\n",
        "    ranked_candidates = rank_candidates(candidates, I_u)\n",
        "\n",
        "    # get the first N row of ranked_candidates to build the top N recommendation list\n",
        "    topn = pd.DataFrame(ranked_candidates[:N], columns=['recipe_id','similarity_with_Iu'])\n",
        "    topn = topn.merge(recipes, on = 'recipe_id')\n",
        "    topn.sort_values(by=['similarity_with_Iu'], inplace=True, ascending=False)\n",
        "    topn_10 = topn.iloc[:10]\n",
        "    return topn_10"
      ]
    },
    {
      "cell_type": "code",
      "execution_count": null,
      "metadata": {
        "id": "VZLZcjilROsr",
        "colab": {
          "base_uri": "https://localhost:8080/",
          "height": 363
        },
        "outputId": "4c08df0e-6748-4dae-e971-ffd0e301631b"
      },
      "outputs": [
        {
          "output_type": "execute_result",
          "data": {
            "text/plain": [
              "    recipe_id  similarity_with_Iu  \\\n",
              "0      208758                 2.0   \n",
              "11     209214                 2.0   \n",
              "20     209715                 2.0   \n",
              "19     209715                 2.0   \n",
              "18     209670                 2.0   \n",
              "17     209626                 2.0   \n",
              "16     209492                 2.0   \n",
              "15     209457                 2.0   \n",
              "14     209436                 2.0   \n",
              "13     209427                 2.0   \n",
              "\n",
              "                                               name  \n",
              "0                            paula deen s cornbread  \n",
              "11                   extreme low fat chocolate cake  \n",
              "20                                    mexican cosmo  \n",
              "19                                    mexican cosmo  \n",
              "18                             crispy salsa chicken  \n",
              "17  salmon with green beans and honey mustard sauce  \n",
              "16                           honey lime oat muffins  \n",
              "15                            7 layer salad for one  \n",
              "14        chicken with pineapple sauce  ww 5 points  \n",
              "13                        herb   cheese quick bread  "
            ],
            "text/html": [
              "\n",
              "  <div id=\"df-c593cce8-bd9b-4177-8d2b-43bcae488332\">\n",
              "    <div class=\"colab-df-container\">\n",
              "      <div>\n",
              "<style scoped>\n",
              "    .dataframe tbody tr th:only-of-type {\n",
              "        vertical-align: middle;\n",
              "    }\n",
              "\n",
              "    .dataframe tbody tr th {\n",
              "        vertical-align: top;\n",
              "    }\n",
              "\n",
              "    .dataframe thead th {\n",
              "        text-align: right;\n",
              "    }\n",
              "</style>\n",
              "<table border=\"1\" class=\"dataframe\">\n",
              "  <thead>\n",
              "    <tr style=\"text-align: right;\">\n",
              "      <th></th>\n",
              "      <th>recipe_id</th>\n",
              "      <th>similarity_with_Iu</th>\n",
              "      <th>name</th>\n",
              "    </tr>\n",
              "  </thead>\n",
              "  <tbody>\n",
              "    <tr>\n",
              "      <th>0</th>\n",
              "      <td>208758</td>\n",
              "      <td>2.0</td>\n",
              "      <td>paula deen s cornbread</td>\n",
              "    </tr>\n",
              "    <tr>\n",
              "      <th>11</th>\n",
              "      <td>209214</td>\n",
              "      <td>2.0</td>\n",
              "      <td>extreme low fat chocolate cake</td>\n",
              "    </tr>\n",
              "    <tr>\n",
              "      <th>20</th>\n",
              "      <td>209715</td>\n",
              "      <td>2.0</td>\n",
              "      <td>mexican cosmo</td>\n",
              "    </tr>\n",
              "    <tr>\n",
              "      <th>19</th>\n",
              "      <td>209715</td>\n",
              "      <td>2.0</td>\n",
              "      <td>mexican cosmo</td>\n",
              "    </tr>\n",
              "    <tr>\n",
              "      <th>18</th>\n",
              "      <td>209670</td>\n",
              "      <td>2.0</td>\n",
              "      <td>crispy salsa chicken</td>\n",
              "    </tr>\n",
              "    <tr>\n",
              "      <th>17</th>\n",
              "      <td>209626</td>\n",
              "      <td>2.0</td>\n",
              "      <td>salmon with green beans and honey mustard sauce</td>\n",
              "    </tr>\n",
              "    <tr>\n",
              "      <th>16</th>\n",
              "      <td>209492</td>\n",
              "      <td>2.0</td>\n",
              "      <td>honey lime oat muffins</td>\n",
              "    </tr>\n",
              "    <tr>\n",
              "      <th>15</th>\n",
              "      <td>209457</td>\n",
              "      <td>2.0</td>\n",
              "      <td>7 layer salad for one</td>\n",
              "    </tr>\n",
              "    <tr>\n",
              "      <th>14</th>\n",
              "      <td>209436</td>\n",
              "      <td>2.0</td>\n",
              "      <td>chicken with pineapple sauce  ww 5 points</td>\n",
              "    </tr>\n",
              "    <tr>\n",
              "      <th>13</th>\n",
              "      <td>209427</td>\n",
              "      <td>2.0</td>\n",
              "      <td>herb   cheese quick bread</td>\n",
              "    </tr>\n",
              "  </tbody>\n",
              "</table>\n",
              "</div>\n",
              "      <button class=\"colab-df-convert\" onclick=\"convertToInteractive('df-c593cce8-bd9b-4177-8d2b-43bcae488332')\"\n",
              "              title=\"Convert this dataframe to an interactive table.\"\n",
              "              style=\"display:none;\">\n",
              "        \n",
              "  <svg xmlns=\"http://www.w3.org/2000/svg\" height=\"24px\"viewBox=\"0 0 24 24\"\n",
              "       width=\"24px\">\n",
              "    <path d=\"M0 0h24v24H0V0z\" fill=\"none\"/>\n",
              "    <path d=\"M18.56 5.44l.94 2.06.94-2.06 2.06-.94-2.06-.94-.94-2.06-.94 2.06-2.06.94zm-11 1L8.5 8.5l.94-2.06 2.06-.94-2.06-.94L8.5 2.5l-.94 2.06-2.06.94zm10 10l.94 2.06.94-2.06 2.06-.94-2.06-.94-.94-2.06-.94 2.06-2.06.94z\"/><path d=\"M17.41 7.96l-1.37-1.37c-.4-.4-.92-.59-1.43-.59-.52 0-1.04.2-1.43.59L10.3 9.45l-7.72 7.72c-.78.78-.78 2.05 0 2.83L4 21.41c.39.39.9.59 1.41.59.51 0 1.02-.2 1.41-.59l7.78-7.78 2.81-2.81c.8-.78.8-2.07 0-2.86zM5.41 20L4 18.59l7.72-7.72 1.47 1.35L5.41 20z\"/>\n",
              "  </svg>\n",
              "      </button>\n",
              "      \n",
              "  <style>\n",
              "    .colab-df-container {\n",
              "      display:flex;\n",
              "      flex-wrap:wrap;\n",
              "      gap: 12px;\n",
              "    }\n",
              "\n",
              "    .colab-df-convert {\n",
              "      background-color: #E8F0FE;\n",
              "      border: none;\n",
              "      border-radius: 50%;\n",
              "      cursor: pointer;\n",
              "      display: none;\n",
              "      fill: #1967D2;\n",
              "      height: 32px;\n",
              "      padding: 0 0 0 0;\n",
              "      width: 32px;\n",
              "    }\n",
              "\n",
              "    .colab-df-convert:hover {\n",
              "      background-color: #E2EBFA;\n",
              "      box-shadow: 0px 1px 2px rgba(60, 64, 67, 0.3), 0px 1px 3px 1px rgba(60, 64, 67, 0.15);\n",
              "      fill: #174EA6;\n",
              "    }\n",
              "\n",
              "    [theme=dark] .colab-df-convert {\n",
              "      background-color: #3B4455;\n",
              "      fill: #D2E3FC;\n",
              "    }\n",
              "\n",
              "    [theme=dark] .colab-df-convert:hover {\n",
              "      background-color: #434B5C;\n",
              "      box-shadow: 0px 1px 3px 1px rgba(0, 0, 0, 0.15);\n",
              "      filter: drop-shadow(0px 1px 2px rgba(0, 0, 0, 0.3));\n",
              "      fill: #FFFFFF;\n",
              "    }\n",
              "  </style>\n",
              "\n",
              "      <script>\n",
              "        const buttonEl =\n",
              "          document.querySelector('#df-c593cce8-bd9b-4177-8d2b-43bcae488332 button.colab-df-convert');\n",
              "        buttonEl.style.display =\n",
              "          google.colab.kernel.accessAllowed ? 'block' : 'none';\n",
              "\n",
              "        async function convertToInteractive(key) {\n",
              "          const element = document.querySelector('#df-c593cce8-bd9b-4177-8d2b-43bcae488332');\n",
              "          const dataTable =\n",
              "            await google.colab.kernel.invokeFunction('convertToInteractive',\n",
              "                                                     [key], {});\n",
              "          if (!dataTable) return;\n",
              "\n",
              "          const docLinkHtml = 'Like what you see? Visit the ' +\n",
              "            '<a target=\"_blank\" href=https://colab.research.google.com/notebooks/data_table.ipynb>data table notebook</a>'\n",
              "            + ' to learn more about interactive tables.';\n",
              "          element.innerHTML = '';\n",
              "          dataTable['output_type'] = 'display_data';\n",
              "          await google.colab.output.renderOutput(dataTable, element);\n",
              "          const docLink = document.createElement('div');\n",
              "          docLink.innerHTML = docLinkHtml;\n",
              "          element.appendChild(docLink);\n",
              "        }\n",
              "      </script>\n",
              "    </div>\n",
              "  </div>\n",
              "  "
            ]
          },
          "metadata": {},
          "execution_count": 188
        }
      ],
      "source": [
        "topn_recommendation(test_user)\n"
      ]
    },
    {
      "cell_type": "code",
      "execution_count": null,
      "metadata": {
        "id": "-JnvClldRmwc"
      },
      "outputs": [],
      "source": [
        "def predict(userid, itemid):\n",
        "    \"\"\"\n",
        "    Make rating prediction for user userid on item itemid\n",
        "    :param userid : id of the active user\n",
        "    :param itemid : id of the item for which we are making prediction\n",
        "    :return r_hat : predicted rating\n",
        "    \"\"\"\n",
        "\n",
        "    # Get items similar to item itemid with their corresponding similarities\n",
        "    item_neighbors = neighbors[itemid]\n",
        "    item_similarities = similarities[itemid]\n",
        "\n",
        "    # get ratings of user with id userid\n",
        "    uratings = np_ratings[np_ratings[:, 0].astype('int') == userid]\n",
        "\n",
        "    # similar items rated by item the user of i\n",
        "    siru = uratings[np.isin(uratings[:, 1], item_neighbors)]\n",
        "    scores = siru[:, 2]\n",
        "    indexes = [np.where(item_neighbors == iid)[0][0] for iid in siru[:,1].astype('int')]\n",
        "    sims = item_similarities[indexes]\n",
        "\n",
        "    dot = np.dot(scores, sims)\n",
        "    som = np.sum(np.abs(sims))\n",
        "\n",
        "    if dot == 0 or som == 0:\n",
        "        return mean[userid]\n",
        "\n",
        "    return dot / som"
      ]
    },
    {
      "cell_type": "code",
      "execution_count": null,
      "metadata": {
        "id": "smysItRqRm7t"
      },
      "outputs": [],
      "source": [
        "examples = ratings[['user_id', 'recipe_id']].values\n",
        "labels = ratings['rating'].values"
      ]
    },
    {
      "cell_type": "code",
      "execution_count": null,
      "metadata": {
        "id": "NW5PsDH2R02B"
      },
      "outputs": [],
      "source": [
        "from sklearn.model_selection import train_test_split\n",
        "train_examples, test_examples, train_labels, test_labels = train_test_split(\n",
        "        examples,\n",
        "        labels,\n",
        "        test_size=0.2,\n",
        "        random_state=42,\n",
        "        shuffle=True)\n",
        "# transform train and test examples to their corresponding one-hot representations\n",
        "train_users = train_examples[:, 0]\n",
        "test_users = test_examples[:, 0]\n",
        "\n",
        "train_items = train_examples[:, 1]\n",
        "test_items = test_examples[:, 1]\n",
        "\n",
        "    # Final training and test set\n",
        "x_train = np.array(list(zip(train_users, train_items)))\n",
        "x_test = np.array(list(zip(test_users, test_items)))\n",
        "\n",
        "y_train = train_labels\n",
        "y_test = test_labels"
      ]
    },
    {
      "cell_type": "code",
      "execution_count": null,
      "metadata": {
        "id": "mEIy-H11R04k"
      },
      "outputs": [],
      "source": [
        "def evaluate(x_test, y_test):\n",
        "        print('Evaluate the model on {} test data ...'.format(x_test.shape[0]))\n",
        "        preds = list(predict(u, i) for (u, i) in x_test)\n",
        "        mae = np.sum(np.absolute(y_test - np.array(preds))) / x_test.shape[0]\n",
        "        print()\n",
        "        print('MAE :', mae)\n",
        "        return mae"
      ]
    },
    {
      "cell_type": "code",
      "execution_count": null,
      "metadata": {
        "id": "rIyGP7XxR07b",
        "colab": {
          "base_uri": "https://localhost:8080/"
        },
        "outputId": "544c1c09-82e3-43a6-b525-ebf55ddf48fe"
      },
      "outputs": [
        {
          "output_type": "stream",
          "name": "stdout",
          "text": [
            "Evaluate the model on 2796 test data ...\n",
            "\n",
            "MAE : 0.22374027835862562\n"
          ]
        },
        {
          "output_type": "execute_result",
          "data": {
            "text/plain": [
              "0.22374027835862562"
            ]
          },
          "metadata": {},
          "execution_count": 182
        }
      ],
      "source": [
        "evaluate(x_test, y_test)"
      ]
    }
  ],
  "metadata": {
    "colab": {
      "provenance": []
    },
    "kernelspec": {
      "display_name": "Python 3",
      "name": "python3"
    },
    "language_info": {
      "name": "python"
    },
    "accelerator": "GPU",
    "gpuClass": "standard"
  },
  "nbformat": 4,
  "nbformat_minor": 0
}